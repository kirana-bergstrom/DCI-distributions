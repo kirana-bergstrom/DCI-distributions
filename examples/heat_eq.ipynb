{
 "cells": [
  {
   "cell_type": "code",
   "execution_count": 1,
   "id": "0aa3a1a9",
   "metadata": {},
   "outputs": [
    {
     "ename": "ModuleNotFoundError",
     "evalue": "No module named 'weightedCDFs'",
     "output_type": "error",
     "traceback": [
      "\u001b[0;31m---------------------------------------------------------------------------\u001b[0m",
      "\u001b[0;31mModuleNotFoundError\u001b[0m                       Traceback (most recent call last)",
      "\u001b[0;32m/var/folders/0h/yvwpnbtd37l25kkvtssf6gtc0000gn/T/ipykernel_31884/4018398484.py\u001b[0m in \u001b[0;36m<cell line: 16>\u001b[0;34m()\u001b[0m\n\u001b[1;32m     14\u001b[0m \u001b[0;32mimport\u001b[0m \u001b[0mscipy\u001b[0m\u001b[0;34m.\u001b[0m\u001b[0mintegrate\u001b[0m \u001b[0;32mas\u001b[0m \u001b[0mintegrate\u001b[0m\u001b[0;34m\u001b[0m\u001b[0;34m\u001b[0m\u001b[0m\n\u001b[1;32m     15\u001b[0m \u001b[0;34m\u001b[0m\u001b[0m\n\u001b[0;32m---> 16\u001b[0;31m \u001b[0;32mimport\u001b[0m \u001b[0mweightedCDFs\u001b[0m \u001b[0;32mas\u001b[0m \u001b[0mwCDFs\u001b[0m\u001b[0;34m\u001b[0m\u001b[0;34m\u001b[0m\u001b[0m\n\u001b[0m\u001b[1;32m     17\u001b[0m \u001b[0;32mimport\u001b[0m \u001b[0mweights\u001b[0m\u001b[0;34m\u001b[0m\u001b[0;34m\u001b[0m\u001b[0m\n\u001b[1;32m     18\u001b[0m \u001b[0;34m\u001b[0m\u001b[0m\n",
      "\u001b[0;31mModuleNotFoundError\u001b[0m: No module named 'weightedCDFs'"
     ]
    }
   ],
   "source": [
    "import matplotlib.pyplot as plt\n",
    "import numpy as np\n",
    "import random\n",
    "import seaborn as sns\n",
    "\n",
    "from ipywidgets import interact, interactive, fixed, interact_manual\n",
    "import ipywidgets as widgets\n",
    "\n",
    "import matplotlib.patches as patches\n",
    "\n",
    "from scipy.stats import gaussian_kde as GKDE\n",
    "from scipy.stats import multivariate_normal\n",
    "from scipy.stats import norm\n",
    "import scipy.integrate as integrate\n",
    "\n",
    "import weightedCDFs as wCDFs\n",
    "import weights\n",
    "\n",
    "import matplotlib as mpl"
   ]
  },
  {
   "cell_type": "code",
   "execution_count": null,
   "id": "bb578309",
   "metadata": {},
   "outputs": [],
   "source": [
    "# set plotting parameters\n",
    "plot_directory = './plots'\n",
    "\n",
    "mpl.rcParams['lines.linewidth'] = 4\n",
    "plt.rc('font', size=14)\n",
    "plt.rc('axes', titlesize=16)\n",
    "plt.rc('axes', labelsize=16)\n",
    "mpl.rcParams['lines.markersize'] = 5\n",
    "mpl.rcParams['figure.figsize'] = (5.5, 4)\n",
    "mpl.rcParams['lines.linewidth'] = 2.5\n",
    "\n",
    "CB_color_cycle = ('#377eb8', '#ff7f00', '#4daf4a',\n",
    "                  '#f781bf', '#a65628', '#984ea3',\n",
    "                  '#999999', '#e41a1c', '#dede00')\n",
    "mpl.rcParams['axes.prop_cycle'] = mpl.cycler(color=CB_color_cycle) "
   ]
  },
  {
   "cell_type": "code",
   "execution_count": null,
   "id": "1593bc4c-7606-42f8-8a0a-9fa72d7ae1ba",
   "metadata": {},
   "outputs": [],
   "source": [
    "random.seed(20)"
   ]
  },
  {
   "cell_type": "markdown",
   "id": "a8987217",
   "metadata": {},
   "source": [
    "## Problem setup\n",
    "\n",
    "This problem corresponds to heat equation illustrative example problem described in Section 2.4 of the paper."
   ]
  },
  {
   "cell_type": "code",
   "execution_count": null,
   "id": "dc6f8c18",
   "metadata": {},
   "outputs": [],
   "source": [
    "# average value of parameters\n",
    "l = 2.\n",
    "kappa = 1."
   ]
  },
  {
   "cell_type": "code",
   "execution_count": null,
   "id": "cad6e92c-c23d-4f4f-a366-42650ee66d06",
   "metadata": {},
   "outputs": [],
   "source": [
    "t = .01"
   ]
  },
  {
   "cell_type": "code",
   "execution_count": null,
   "id": "f87f7f3e",
   "metadata": {},
   "outputs": [],
   "source": [
    "def u_k(k, x, t, l, kappa):\n",
    "    \n",
    "    return (2 * l**2 * (-1)**(k+1) / (np.pi * k)\n",
    "            * np.sin(k * np.pi * x / l)\n",
    "            * np.exp(-kappa * (k * np.pi)**2 * t) / l**2)\n",
    "\n",
    "def u(N, x, t, l, kappa):\n",
    "    \n",
    "    u_N = 0 * x\n",
    "    for k in range(1, N):\n",
    "        u_N += u_k(k, x, t, l, kappa)\n",
    "\n",
    "    return u_N"
   ]
  },
  {
   "cell_type": "code",
   "execution_count": null,
   "id": "93fbd053-e7c2-4284-a3f6-ecf3cc3654a9",
   "metadata": {},
   "outputs": [],
   "source": [
    "N = 100 # solution truncation"
   ]
  },
  {
   "cell_type": "code",
   "execution_count": null,
   "id": "026d3bf0",
   "metadata": {},
   "outputs": [],
   "source": [
    "# plotting a sample solution to the equation\n",
    "x = np.linspace(0, l, 2*N)\n",
    "u_N = u(N, x, t, l, kappa)\n",
    "\n",
    "plt.plot(x, u_N);\n",
    "\n",
    "plt.xlabel('$x$');\n",
    "plt.ylabel('$u$');"
   ]
  },
  {
   "cell_type": "markdown",
   "id": "28c24bc7",
   "metadata": {},
   "source": [
    "## DCI problem\n",
    "\n",
    "Here, we set up the DCI problem for the illustrative example, by which we mean we set up the initial, predicted, and observed distributions and generate samples."
   ]
  },
  {
   "cell_type": "code",
   "execution_count": null,
   "id": "b8230e7c-72bd-47ae-b90c-d7585fa5351f",
   "metadata": {},
   "outputs": [],
   "source": [
    "sensor_loc = 1.2"
   ]
  },
  {
   "cell_type": "code",
   "execution_count": null,
   "id": "b3096716",
   "metadata": {},
   "outputs": [],
   "source": [
    "# initial distribution\n",
    "n_init_samples = 2000\n",
    "\n",
    "delta_l = 0.1\n",
    "delta_kappa = 0.5\n",
    "\n",
    "init_samples = np.random.uniform(0, 1, (n_init_samples,2))\n",
    "init_samples[:,0] = init_samples[:,0] * delta_l + l - delta_l / 2\n",
    "init_samples[:,1] = init_samples[:,1] * delta_kappa + kappa - delta_kappa / 2"
   ]
  },
  {
   "cell_type": "code",
   "execution_count": null,
   "id": "9ddaf2ec",
   "metadata": {},
   "outputs": [],
   "source": [
    "# plotting initial samples in the parameter space\n",
    "X = np.linspace(l - delta_l / 2, delta_l + l - delta_l / 2, 100)\n",
    "Y = np.linspace(kappa - delta_kappa / 2, delta_kappa + kappa - delta_kappa / 2, 100)\n",
    "\n",
    "XX, YY = np.meshgrid(X, Y)\n",
    "\n",
    "plt.scatter(init_samples[:,0], init_samples[:,1], alpha=0.2, color='k')\n",
    "\n",
    "ax = plt.gca()\n",
    "ax.set_aspect(0.18)\n",
    "plt.xlabel(r'$\\ell$');\n",
    "plt.ylabel(r'$\\kappa$');\n",
    "plt.xticks(ticks=np.linspace(np.min(XX), np.max(XX), 6),\n",
    "           labels=[\"{:.2f}\".format(x) for x in np.linspace(np.min(XX), np.max(XX), 6)]);\n",
    "plt.yticks(ticks=np.linspace(np.min(YY), np.max(YY), 6),\n",
    "           labels=[\"{:.2f}\".format(x) for x in np.linspace(np.min(YY), np.max(YY), 6)]);"
   ]
  },
  {
   "cell_type": "code",
   "execution_count": null,
   "id": "c51de596",
   "metadata": {},
   "outputs": [],
   "source": [
    "# plotting contours of the QoI map in the parameter space\n",
    "ZZ = np.zeros(np.shape(XX))\n",
    "\n",
    "for count, x in enumerate(X):\n",
    "    ZZ[count,:] = u(N, sensor_loc, t, XX[count,:], YY[count,:])"
   ]
  },
  {
   "cell_type": "code",
   "execution_count": null,
   "id": "e7d54860",
   "metadata": {},
   "outputs": [],
   "source": [
    "plt.contourf(XX, YY, ZZ, levels=9);\n",
    "ax = plt.gca()\n",
    "ax.set_aspect(0.18)\n",
    "\n",
    "plt.ylabel(r'$\\kappa$');\n",
    "plt.xlabel(r'$\\ell$');\n",
    "plt.xticks(ticks=np.linspace(np.min(XX), np.max(XX), 6),\n",
    "           labels=[\"{:.2f}\".format(x) for x in np.linspace(np.min(XX), np.max(XX), 6)])\n",
    "plt.yticks(ticks=np.linspace(np.min(YY), np.max(YY), 6),\n",
    "           labels=[\"{:.2f}\".format(x) for x in np.linspace(np.min(YY), np.max(YY), 6)])\n",
    "\n",
    "cbar = plt.colorbar()\n",
    "cbar.set_ticks(np.linspace(np.min(ZZ), np.max(ZZ), 7))\n",
    "cbar.set_ticklabels([\"{:.4f}\".format(x) for x in np.linspace(np.min(ZZ), np.max(ZZ), 7)])\n",
    "\n",
    "plt.tight_layout()\n",
    "plt.savefig(f'{plot_directory}/contours.png', bbox_inches='tight')"
   ]
  },
  {
   "cell_type": "code",
   "execution_count": null,
   "id": "e9fbbe5e",
   "metadata": {},
   "outputs": [],
   "source": [
    "# push initial samples through QoI map to generate predicted samples\n",
    "pred_samples = np.zeros((n_init_samples, 1))\n",
    "pred_samples[:, 0] = u(N, sensor_loc, t, init_samples[:,0], init_samples[:,1])"
   ]
  },
  {
   "cell_type": "code",
   "execution_count": null,
   "id": "ed9cce3e",
   "metadata": {},
   "outputs": [],
   "source": [
    "# generate observed samples from a distribution\n",
    "obs_dist = norm(0.595, 3e-3)\n",
    "\n",
    "n_obs_samples = 10000\n",
    "obs_samples = obs_dist.rvs(n_obs_samples)"
   ]
  },
  {
   "cell_type": "code",
   "execution_count": null,
   "id": "a4ce7bcb",
   "metadata": {},
   "outputs": [],
   "source": [
    "xx = np.linspace(np.min(pred_samples), np.max(pred_samples), 1000)\n",
    "\n",
    "plt.hist(obs_samples, bins=20, alpha=0.3, density=True, label='Observed histogram', rwidth=0.85);\n",
    "plt.hist(pred_samples, bins=20, alpha=0.3, density=True, label='Predicted histogram', rwidth=0.85);\n",
    "\n",
    "plt.legend(loc='center left', bbox_to_anchor=(1, 0.5), shadow=True);\n",
    "plt.xlabel(r'$\\mathcal{D}$');\n",
    "plt.xticks(ticks=np.linspace(np.min(ZZ), np.max(ZZ), 6),\n",
    "           labels=[\"{:.3f}\".format(x) for x in np.linspace(np.min(ZZ), np.max(ZZ), 6)]);\n",
    "plt.ylabel('Number of samples');"
   ]
  },
  {
   "cell_type": "markdown",
   "id": "014e2231",
   "metadata": {},
   "source": [
    "## Density-based solution\n",
    "\n",
    "The density-based solution using KDEs for the illustrative example, described in Section 2.4 of the paper, is computed below."
   ]
  },
  {
   "cell_type": "code",
   "execution_count": null,
   "id": "8bc9fe3d-0636-4079-a3d4-24f06e1e70ec",
   "metadata": {},
   "outputs": [],
   "source": [
    "# for the density solution we will do rejection sampling\n",
    "def rejection_sampling(r):\n",
    "\n",
    "    unifs = np.random.uniform(0,1,len(r))\n",
    "    M = np.max(r)\n",
    "\n",
    "    return (unifs < (r / M))"
   ]
  },
  {
   "cell_type": "code",
   "execution_count": null,
   "id": "0d81d754-c44e-44de-9bf7-c4f6e60433c8",
   "metadata": {},
   "outputs": [],
   "source": [
    "pred_KDE = GKDE(pred_samples[:,0])\n",
    "obs_KDE = GKDE(obs_samples)"
   ]
  },
  {
   "cell_type": "code",
   "execution_count": null,
   "id": "6f63a684-97c2-48f8-a963-e034874a8a86",
   "metadata": {},
   "outputs": [],
   "source": [
    "xx = np.linspace(np.min(pred_samples), np.max(pred_samples), 1000)\n",
    "\n",
    "plt.hist(obs_samples, bins=20, alpha=0.3, density=True, label='Observed histogram', rwidth=0.85);\n",
    "plt.plot(xx, obs_KDE(xx), color=CB_color_cycle[0], label='Observed KDE');\n",
    "\n",
    "plt.hist(pred_samples, bins=20, alpha=0.3, density=True, label='Predicted histogram', rwidth=0.85);\n",
    "plt.plot(xx, pred_KDE(xx), color=CB_color_cycle[1], label='Predicted KDE');\n",
    "\n",
    "plt.legend(loc='center left', bbox_to_anchor=(1, 0.5), shadow=True);\n",
    "plt.xlabel(r'$\\mathcal{D}$');\n",
    "plt.xticks(ticks=np.linspace(np.min(ZZ), np.max(ZZ), 6),\n",
    "           labels=[\"{:.3f}\".format(x) for x in np.linspace(np.min(ZZ), np.max(ZZ), 6)]);\n",
    "plt.ylabel('Density');"
   ]
  },
  {
   "cell_type": "code",
   "execution_count": null,
   "id": "f9a681d9-3871-4110-8c10-0d885225f082",
   "metadata": {},
   "outputs": [],
   "source": [
    "# an example of a bad diagnostic, where the density-based solution fails\n",
    "bad_obs_dist = norm(0.613, 7e-3)\n",
    "\n",
    "n_obs_samples = 10000\n",
    "bad_obs_samples = bad_obs_dist.rvs(n_obs_samples)\n",
    "\n",
    "bad_obs_KDE = GKDE(bad_obs_samples)"
   ]
  },
  {
   "cell_type": "code",
   "execution_count": null,
   "id": "65d6df46-8035-49b8-85d4-fbe5605b5a89",
   "metadata": {},
   "outputs": [],
   "source": [
    "xx = np.linspace(np.min(pred_samples), np.max(bad_obs_samples), 1000)\n",
    "\n",
    "plt.hist(obs_samples, bins=20, alpha=0.3, density=True, label='Observed histogram', rwidth=0.85);\n",
    "plt.plot(xx, obs_KDE(xx), color=CB_color_cycle[0], label='Observed KDE');\n",
    "\n",
    "plt.hist(pred_samples, bins=20, alpha=0.3, density=True, label='Predicted histogram', rwidth=0.85);\n",
    "plt.plot(xx, pred_KDE(xx), color=CB_color_cycle[1], label='Predicted KDE');\n",
    "\n",
    "plt.hist(bad_obs_samples, bins=20, alpha=0.3, density=True, label='Pred. violation observed histogram', rwidth=0.85);\n",
    "plt.plot(xx, bad_obs_KDE(xx), color=CB_color_cycle[2], label='Pred. violation observed KDE');\n",
    "\n",
    "plt.legend(loc='center left', bbox_to_anchor=(1, 0.5), shadow=True);\n",
    "plt.xlabel(r'$\\mathcal{D}$');\n",
    "plt.xticks(ticks=np.linspace(np.min(pred_samples), np.max(bad_obs_samples), 6),\n",
    "           labels=[\"{:.3f}\".format(x) for x in np.linspace(np.min(pred_samples), np.max(bad_obs_samples), 6)]);\n",
    "plt.ylabel('Density');\n",
    "\n",
    "plt.savefig(f'{plot_directory}/heat_eq_dists.png', bbox_inches='tight');"
   ]
  },
  {
   "cell_type": "code",
   "execution_count": null,
   "id": "19d12d40-3cc2-4b7e-a74a-483b45ce335c",
   "metadata": {},
   "outputs": [],
   "source": [
    "# compute the density-based solution weights (radon-nikodym weights) on the initial samples\n",
    "r = obs_KDE(pred_samples.T) / pred_KDE(pred_samples.T)\n",
    "rn_w = r / n_init_samples\n",
    "print(f'E(r) = {np.mean(r)}') # computes the diagnostic for the density solution"
   ]
  },
  {
   "cell_type": "code",
   "execution_count": null,
   "id": "c46ffd0d-5900-4638-b035-a83b49c1c7ba",
   "metadata": {},
   "outputs": [],
   "source": [
    "r_bad = bad_obs_KDE(pred_samples.T) / pred_KDE(pred_samples.T)\n",
    "print(f'E(r) = {np.mean(r_bad)}')"
   ]
  },
  {
   "cell_type": "code",
   "execution_count": null,
   "id": "6a5a7f4e",
   "metadata": {},
   "outputs": [],
   "source": [
    "# once we have the radon-nikodym weights, we use rejection sampling to find the solution and its push-forward\n",
    "update_inds = rejection_sampling(r)\n",
    "update_samples = init_samples[update_inds]\n",
    "\n",
    "pf_samples = pred_samples[update_inds]\n",
    "pf_KDE = GKDE(pf_samples.T)"
   ]
  },
  {
   "cell_type": "code",
   "execution_count": null,
   "id": "f1c1a356",
   "metadata": {},
   "outputs": [],
   "source": [
    "xx = np.linspace(np.min(pred_samples[:,0]), np.max(pred_samples[:,0]), 1000)\n",
    "\n",
    "plt.plot(xx, obs_KDE(xx), label=r'$\\pi_{obs}$');\n",
    "plt.plot(xx, pred_KDE(xx), label=r'$\\pi_{pred}$');\n",
    "plt.plot(xx, pf_KDE(xx), label=r'$\\pi_{update}$');\n",
    "\n",
    "plt.xticks(ticks=np.linspace(np.min(pred_samples), np.max(pred_samples), 6),\n",
    "           labels=[\"{:.3f}\".format(x) for x in np.linspace(np.min(pred_samples), np.max(pred_samples), 6)]);\n",
    "plt.xlabel(r'$u$');\n",
    "plt.legend(shadow=True);\n",
    "\n",
    "plt.tight_layout()\n",
    "plt.savefig(f'{plot_directory}/dens_results.png', bbox_inches='tight')"
   ]
  },
  {
   "cell_type": "code",
   "execution_count": null,
   "id": "c649b377",
   "metadata": {},
   "outputs": [],
   "source": [
    "plt.scatter(init_samples[update_inds,0], init_samples[update_inds,1], alpha=0.7)\n",
    "\n",
    "ax = plt.gca()\n",
    "ax.set_aspect(0.18)\n",
    "\n",
    "plt.xlim(1.945, 2.055);\n",
    "plt.ylim(0.725, 1.275);\n",
    "plt.xlabel(r'$\\ell$');\n",
    "plt.ylabel(r'$\\kappa$');\n",
    "plt.xticks(ticks=np.linspace(np.min(XX), np.max(XX), 6),\n",
    "           labels=[\"{:.2f}\".format(x) for x in np.linspace(np.min(XX), np.max(XX), 6)]);\n",
    "plt.yticks(ticks=np.linspace(np.min(YY), np.max(YY), 6),\n",
    "           labels=[\"{:.2f}\".format(x) for x in np.linspace(np.min(YY), np.max(YY), 6)]);\n",
    "\n",
    "plt.tight_layout();\n",
    "plt.savefig(f'{plot_directory}/rejection.png', bbox_inches='tight');"
   ]
  },
  {
   "cell_type": "code",
   "execution_count": null,
   "id": "919d6a40",
   "metadata": {},
   "outputs": [],
   "source": [
    "ax = plt.gca()\n",
    "ax.set_aspect(0.18)\n",
    "\n",
    "plt.scatter(init_samples[:,0], init_samples[:,1], c=r/n_init_samples);\n",
    "\n",
    "plt.xlim(1.945, 2.055);\n",
    "plt.ylim(0.725, 1.275);\n",
    "plt.xlabel(r'$\\ell$');\n",
    "plt.ylabel(r'$\\kappa$');\n",
    "plt.xticks(ticks=np.linspace(np.min(XX), np.max(XX), 6),\n",
    "           labels=[\"{:.2f}\".format(x) for x in np.linspace(np.min(XX), np.max(XX), 6)]);\n",
    "plt.yticks(ticks=np.linspace(np.min(YY), np.max(YY), 6),\n",
    "           labels=[\"{:.2f}\".format(x) for x in np.linspace(np.min(YY), np.max(YY), 6)]);\n",
    "\n",
    "cbar = plt.colorbar();\n",
    "cbar.set_ticks(np.linspace(np.min(r/n_init_samples), np.max(r/n_init_samples), 7));\n",
    "cbar.set_ticklabels([\"{:.4f}\".format(x) for x in np.linspace(np.min(r/n_init_samples),\n",
    "                                                             np.max(r/n_init_samples), 7)]);\n",
    "\n",
    "plt.tight_layout()\n",
    "plt.savefig(f'{plot_directory}/rn_weights.png', bbox_inches='tight')"
   ]
  },
  {
   "cell_type": "markdown",
   "id": "b3b65e09",
   "metadata": {},
   "source": [
    "## Naive optimization solution\n",
    "\n",
    "The naive optimization solution for the DCI problem, corresponding to Section 3.2 from the paper, is found below."
   ]
  },
  {
   "cell_type": "code",
   "execution_count": null,
   "id": "638260b9",
   "metadata": {},
   "outputs": [],
   "source": [
    "H = wCDFs.compute_H(np.reshape(pred_samples, (len(pred_samples),1)))\n",
    "b = wCDFs.compute_b(np.reshape(pred_samples, (len(pred_samples),1)),\n",
    "                    sample_set_2=np.reshape(obs_samples, (len(obs_samples),1)))\n",
    "w = wCDFs.compute_optimal_w(H, b)"
   ]
  },
  {
   "cell_type": "code",
   "execution_count": null,
   "id": "73600d3e",
   "metadata": {},
   "outputs": [],
   "source": [
    "vmin = 0\n",
    "vmax = 0.003\n",
    "plt.scatter(init_samples[:,0], init_samples[:,1], c=w/n_init_samples, cmap='viridis', vmin=vmin, vmax=vmax)\n",
    "\n",
    "plt.xlabel(r'$\\ell$');\n",
    "plt.ylabel(r'$\\kappa$');\n",
    "plt.xticks(ticks=np.linspace(np.min(XX), np.max(XX), 6),\n",
    "           labels=[\"{:.2f}\".format(x) for x in np.linspace(np.min(XX), np.max(XX), 6)]);\n",
    "plt.yticks(ticks=np.linspace(np.min(YY), np.max(YY), 6),\n",
    "           labels=[\"{:.2f}\".format(x) for x in np.linspace(np.min(YY), np.max(YY), 6)]);\n",
    "\n",
    "cbar = plt.colorbar();\n",
    "cbar.set_ticks(np.linspace(vmin, vmax, 7));\n",
    "cbar.set_ticklabels([\"{:.4f}\".format(x) for x in np.linspace(vmin, vmax, 7)]);\n",
    "\n",
    "plt.tight_layout();\n",
    "plt.savefig(f'{plot_directory}/naive_weights.png', bbox_inches='tight');"
   ]
  },
  {
   "cell_type": "code",
   "execution_count": null,
   "id": "49def45a-a56d-4575-8a44-59d845364ff6",
   "metadata": {},
   "outputs": [],
   "source": [
    "plt.scatter(rn_w, w/n_init_samples);\n",
    "plt.plot(np.linspace(0, np.max(rn_w), 1000),\n",
    "         np.linspace(0, np.max(rn_w), 1000), color='k');\n",
    "\n",
    "plt.xticks(ticks=np.linspace(np.min(rn_w), np.max(rn_w), 5),\n",
    "           labels=[\"{:.4f}\".format(x) for x in np.linspace(np.min(rn_w), np.max(rn_w), 5)]);\n",
    "plt.yticks(ticks=np.linspace(np.min(w/n_init_samples), np.max(w/n_init_samples), 7),\n",
    "           labels=[\"{:.4f}\".format(x) for x in np.linspace(np.min(w/n_init_samples), np.max(w/n_init_samples), 7)]);\n",
    "plt.xlabel('Radon-Nikodym weights');\n",
    "plt.ylabel('Naïve optimized weights');\n",
    "\n",
    "plt.tight_layout()\n",
    "plt.savefig(f'{plot_directory}/rn_vs_naive.png')"
   ]
  },
  {
   "cell_type": "markdown",
   "id": "9659ede3",
   "metadata": {},
   "source": [
    "## Binning methods\n",
    "\n",
    "Next, we compute the solution using the binning method described in Section 3.3 of the paper."
   ]
  },
  {
   "cell_type": "code",
   "execution_count": null,
   "id": "24b110f0",
   "metadata": {},
   "outputs": [],
   "source": [
    "p = 35"
   ]
  },
  {
   "cell_type": "markdown",
   "id": "e270cd71",
   "metadata": {},
   "source": [
    "### Regular partitioning\n",
    "\n",
    "We demonstrate the method computing the bins using regular partitioning first."
   ]
  },
  {
   "cell_type": "code",
   "execution_count": null,
   "id": "2ab28d7e",
   "metadata": {},
   "outputs": [],
   "source": [
    "rpartitioned_w, bins, centers, w_center = weights.computePartitionedWeights_regulargrid_IID(init_samples,\n",
    "                                                                        pred_samples,\n",
    "                                                                        sample_set_2=np.reshape(obs_samples, (len(obs_samples),1)),\n",
    "                                                                        n_bins=p)"
   ]
  },
  {
   "cell_type": "code",
   "execution_count": null,
   "id": "45e50f36",
   "metadata": {},
   "outputs": [],
   "source": [
    "plt.scatter(init_samples[:,0], init_samples[:,1], c=rpartitioned_w)\n",
    "\n",
    "plt.xlabel(r'$\\ell$');\n",
    "plt.ylabel(r'$\\kappa$');\n",
    "plt.xticks(ticks=np.linspace(np.min(XX), np.max(XX), 6),\n",
    "           labels=[\"{:.2f}\".format(x) for x in np.linspace(np.min(XX), np.max(XX), 6)]);\n",
    "plt.yticks(ticks=np.linspace(np.min(YY), np.max(YY), 6),\n",
    "           labels=[\"{:.2f}\".format(x) for x in np.linspace(np.min(YY), np.max(YY), 6)]);\n",
    "\n",
    "cbar = plt.colorbar();\n",
    "cbar.set_ticks(np.linspace(np.min(rpartitioned_w), np.max(rpartitioned_w), 7));\n",
    "cbar.set_ticklabels([\"{:.4f}\".format(x) for x in np.linspace(np.min(rpartitioned_w),\n",
    "                                                             np.max(rpartitioned_w), 7)]);\n",
    "\n",
    "plt.tight_layout()\n",
    "plt.savefig(f'{plot_directory}/regpart_weights.png', bbox_inches='tight')"
   ]
  },
  {
   "cell_type": "code",
   "execution_count": null,
   "id": "eca9d4a9",
   "metadata": {},
   "outputs": [],
   "source": [
    "plt.scatter(rn_w, rpartitioned_w)\n",
    "plt.plot(np.linspace(0, np.max(rn_w), 1000),\n",
    "         np.linspace(0, np.max(rn_w), 1000), color='k');\n",
    "\n",
    "plt.xticks(ticks=np.linspace(np.min(rn_w), np.max(rn_w), 5),\n",
    "           labels=[\"{:.4f}\".format(x) for x in np.linspace(np.min(rn_w), np.max(rn_w), 5)]);\n",
    "plt.yticks(ticks=np.linspace(np.min(rpartitioned_w), np.max(rpartitioned_w), 7),\n",
    "           labels=[\"{:.4f}\".format(x) for x in np.linspace(np.min(rpartitioned_w), np.max(rpartitioned_w), 7)]);\n",
    "plt.xlabel('Radon-Nikodym weights');\n",
    "plt.ylabel('Regular binning weights');\n",
    "\n",
    "plt.tight_layout()\n",
    "plt.savefig(f'{plot_directory}/rn_vs_regpart.png', bbox_inches='tight')"
   ]
  },
  {
   "cell_type": "code",
   "execution_count": null,
   "id": "f7da4d92",
   "metadata": {},
   "outputs": [],
   "source": [
    "for i in range(p):\n",
    "    plt.scatter(init_samples[(bins==i),0],init_samples[(bins==i),1])\n",
    "\n",
    "plt.xlabel(r'$\\ell$');\n",
    "plt.ylabel(r'$\\kappa$');\n",
    "plt.xticks(ticks=np.linspace(np.min(XX), np.max(XX), 6),\n",
    "           labels=[\"{:.2f}\".format(x) for x in np.linspace(np.min(XX), np.max(XX), 6)]);\n",
    "plt.yticks(ticks=np.linspace(np.min(YY), np.max(YY), 6),\n",
    "           labels=[\"{:.2f}\".format(x) for x in np.linspace(np.min(YY), np.max(YY), 6)]);\n",
    "\n",
    "plt.tight_layout();\n",
    "plt.savefig(f'{plot_directory}/regpart_cells.png', bbox_inches='tight')"
   ]
  },
  {
   "cell_type": "markdown",
   "id": "dcca8eec",
   "metadata": {},
   "source": [
    "### K-means partitioning\n",
    "\n",
    "Next, we demonstrate the method using K-means partitioning."
   ]
  },
  {
   "cell_type": "code",
   "execution_count": null,
   "id": "5a2ffb32",
   "metadata": {},
   "outputs": [],
   "source": [
    "kpartitioned_w, clusters, centers, w_center = weights.computePartitionedWeights_kMeans_IID(init_samples,\n",
    "                                                                        pred_samples,\n",
    "                                                                        sample_set_2=np.reshape(obs_samples, (len(obs_samples),1)),\n",
    "                                                                        n_clusters=p)"
   ]
  },
  {
   "cell_type": "code",
   "execution_count": null,
   "id": "09401d8d",
   "metadata": {},
   "outputs": [],
   "source": [
    "plt.scatter(init_samples[:,0], init_samples[:,1], c=kpartitioned_w)\n",
    "\n",
    "plt.xlabel(r'$\\ell$')\n",
    "plt.ylabel(r'$\\kappa$')\n",
    "plt.xticks(ticks=np.linspace(np.min(XX), np.max(XX), 6),\n",
    "           labels=[\"{:.2f}\".format(x) for x in np.linspace(np.min(XX), np.max(XX), 6)])\n",
    "plt.yticks(ticks=np.linspace(np.min(YY), np.max(YY), 6),\n",
    "           labels=[\"{:.2f}\".format(x) for x in np.linspace(np.min(YY), np.max(YY), 6)])\n",
    "\n",
    "cbar = plt.colorbar()\n",
    "cbar.set_ticks(np.linspace(np.min(kpartitioned_w), np.max(kpartitioned_w), 7))\n",
    "cbar.set_ticklabels([\"{:.4f}\".format(x) for x in np.linspace(np.min(kpartitioned_w),\n",
    "                                                             np.max(kpartitioned_w), 7)])\n",
    "\n",
    "plt.tight_layout()\n",
    "plt.savefig(f'{plot_directory}/kmeans_part_weights.png', bbox_inches='tight')"
   ]
  },
  {
   "cell_type": "code",
   "execution_count": null,
   "id": "bdd3f6f2",
   "metadata": {},
   "outputs": [],
   "source": [
    "plt.scatter(rn_w, kpartitioned_w);\n",
    "plt.plot(np.linspace(0, np.max(rn_w), 1000),\n",
    "         np.linspace(0, np.max(rn_w), 1000), color='k');\n",
    "\n",
    "plt.xticks(ticks=np.linspace(np.min(rn_w), np.max(rn_w), 5),\n",
    "           labels=[\"{:.4f}\".format(x) for x in np.linspace(np.min(rn_w), np.max(rn_w), 5)]);\n",
    "plt.yticks(ticks=np.linspace(np.min(kpartitioned_w), np.max(kpartitioned_w), 7),\n",
    "           labels=[\"{:.4f}\".format(x) for x in np.linspace(np.min(kpartitioned_w), np.max(kpartitioned_w), 7)]);\n",
    "plt.xlabel('Radon-Nikodym weights');\n",
    "plt.ylabel('K-means binning weights');\n",
    "\n",
    "plt.tight_layout();\n",
    "plt.savefig(f'{plot_directory}/rn_vs_kmeans_part.png');"
   ]
  },
  {
   "cell_type": "code",
   "execution_count": null,
   "id": "2e7f01d7",
   "metadata": {},
   "outputs": [],
   "source": [
    "for i in range(p):\n",
    "    plt.scatter(init_samples[(clusters==i),0], init_samples[(clusters==i),1]);\n",
    "\n",
    "plt.xlabel(r'$\\ell$');\n",
    "plt.ylabel(r'$\\kappa$');\n",
    "\n",
    "plt.xticks(ticks=np.linspace(np.min(XX), np.max(XX), 6),\n",
    "           labels=[\"{:.2f}\".format(x) for x in np.linspace(np.min(XX), np.max(XX), 6)]);\n",
    "plt.yticks(ticks=np.linspace(np.min(YY), np.max(YY), 6),\n",
    "           labels=[\"{:.2f}\".format(x) for x in np.linspace(np.min(YY), np.max(YY), 6)]);\n",
    "\n",
    "plt.tight_layout();\n",
    "plt.savefig(f'{plot_directory}/kmeans_part_cells.png', bbox_inches='tight');"
   ]
  },
  {
   "cell_type": "code",
   "execution_count": null,
   "id": "8262017f",
   "metadata": {},
   "outputs": [],
   "source": [
    "plt.plot(np.linspace(0, np.max(rn_w), 1000),\n",
    "         np.linspace(0, np.max(rn_w), 1000), color='k', label='Identity');\n",
    "plt.scatter(rn_w, rpartitioned_w, label='Regular binning', marker='x');\n",
    "\n",
    "plt.xlabel('Radon-Nikodym weights');\n",
    "plt.ylabel('Partitioned weights');\n",
    "plt.scatter(rn_w, kpartitioned_w, label='K-Means binning');\n",
    "plt.xticks(ticks=np.linspace(np.min(rn_w), np.max(rn_w), 5),\n",
    "           labels=[\"{:.4f}\".format(x) for x in np.linspace(np.min(rn_w), np.max(rn_w), 5)]);\n",
    "plt.yticks(ticks=np.linspace(np.min(kpartitioned_w), np.max(kpartitioned_w), 7),\n",
    "           labels=[\"{:.4f}\".format(x) for x in np.linspace(np.min(kpartitioned_w), np.max(kpartitioned_w), 7)]);\n",
    "plt.legend(shadow=True);\n",
    "\n",
    "plt.tight_layout();\n",
    "plt.savefig(f'{plot_directory}/regpart_vs_kmeans.png')"
   ]
  },
  {
   "cell_type": "markdown",
   "id": "56c4b28e",
   "metadata": {},
   "source": [
    "## Run for smaller initial sample size to plot EDF steps\n",
    "\n",
    "For some of the plots in the paper, it is useful to run the method with a smaller number of initial samples, so that we can see the steps in the empirical distribution function. The following repeats the problem described above with the number of initial samples reduced."
   ]
  },
  {
   "cell_type": "code",
   "execution_count": null,
   "id": "5bb5c7a0",
   "metadata": {},
   "outputs": [],
   "source": [
    "n_init_samples_small = 200\n",
    "\n",
    "H = wCDFs.compute_H(pred_samples[:n_init_samples_small,:])\n",
    "b = wCDFs.compute_b(pred_samples[:n_init_samples_small,:], targ_CDF=obs_dist.cdf)\n",
    "w = wCDFs.compute_optimal_w(H, b)\n",
    "\n",
    "p = 10\n",
    "\n",
    "kpartitioned_w, clusters, centers, w_center = weights.computePartitionedWeights_kMeans_IID(init_samples[:n_init_samples_small,:],\n",
    "                                                                        pred_samples[:n_init_samples_small,:],\n",
    "                                                                        sample_set_2=np.reshape(obs_samples, (len(obs_samples),1)),\n",
    "                                                                        n_clusters=p)\n",
    "\n",
    "rpartitioned_w, bins, centers, w_center = weights.computePartitionedWeights_regulargrid_IID(init_samples[:n_init_samples_small,:],\n",
    "                                                                        pred_samples[:n_init_samples_small,:],\n",
    "                                                                        sample_set_2=np.reshape(obs_samples, (len(obs_samples),1)),\n",
    "                                                                        n_bins=p)"
   ]
  },
  {
   "cell_type": "code",
   "execution_count": null,
   "id": "0972f6b8",
   "metadata": {},
   "outputs": [],
   "source": [
    "plt.scatter(init_samples[:n_init_samples_small,0], init_samples[:n_init_samples_small,1],\n",
    "            c=w/n_init_samples_small);\n",
    "\n",
    "plt.xlabel(r'$\\ell$');\n",
    "plt.ylabel(r'$\\kappa$');\n",
    "plt.xticks(ticks=np.linspace(np.min(XX), np.max(XX), 6),\n",
    "           labels=[\"{:.2f}\".format(x) for x in np.linspace(np.min(XX), np.max(XX), 6)]);\n",
    "plt.yticks(ticks=np.linspace(np.min(YY), np.max(YY), 6),\n",
    "           labels=[\"{:.2f}\".format(x) for x in np.linspace(np.min(YY), np.max(YY), 6)]);\n",
    "\n",
    "cbar = plt.colorbar();\n",
    "cbar.set_ticks(np.linspace(np.min(w/n_init_samples_small), np.max(w/n_init_samples_small), 7));\n",
    "cbar.set_ticklabels([\"{:.4f}\".format(x) for x in np.linspace(np.min(w/n_init_samples_small),\n",
    "                                                             np.max(w/n_init_samples_small), 7)]);"
   ]
  },
  {
   "cell_type": "code",
   "execution_count": null,
   "id": "009a3ff8",
   "metadata": {},
   "outputs": [],
   "source": [
    "plt.scatter(init_samples[:n_init_samples_small,0], init_samples[:n_init_samples_small,1],\n",
    "            c=kpartitioned_w);\n",
    "\n",
    "plt.xlabel(r'$\\ell$');\n",
    "plt.ylabel(r'$\\kappa$');\n",
    "plt.xticks(ticks=np.linspace(np.min(XX), np.max(XX), 6),\n",
    "           labels=[\"{:.2f}\".format(x) for x in np.linspace(np.min(XX), np.max(XX), 6)]);\n",
    "plt.yticks(ticks=np.linspace(np.min(YY), np.max(YY), 6),\n",
    "           labels=[\"{:.2f}\".format(x) for x in np.linspace(np.min(YY), np.max(YY), 6)]);\n",
    "\n",
    "cbar = plt.colorbar();\n",
    "cbar.set_ticks(np.linspace(np.min(kpartitioned_w), np.max(kpartitioned_w), 7));\n",
    "cbar.set_ticklabels([\"{:.4f}\".format(x) for x in np.linspace(np.min(kpartitioned_w),\n",
    "                                                             np.max(kpartitioned_w), 7)]);"
   ]
  },
  {
   "cell_type": "code",
   "execution_count": null,
   "id": "8a8edda2",
   "metadata": {},
   "outputs": [],
   "source": [
    "plt.scatter(init_samples[:n_init_samples_small,0], init_samples[:n_init_samples_small,1],\n",
    "            c=rpartitioned_w);\n",
    "\n",
    "plt.xlabel(r'$\\ell$');\n",
    "plt.ylabel(r'$\\kappa$');\n",
    "plt.xticks(ticks=np.linspace(np.min(XX), np.max(XX), 6),\n",
    "           labels=[\"{:.2f}\".format(x) for x in np.linspace(np.min(XX), np.max(XX), 6)]);\n",
    "plt.yticks(ticks=np.linspace(np.min(YY), np.max(YY), 6),\n",
    "           labels=[\"{:.2f}\".format(x) for x in np.linspace(np.min(YY), np.max(YY), 6)]);\n",
    "\n",
    "cbar = plt.colorbar();\n",
    "cbar.set_ticks(np.linspace(np.min(rpartitioned_w), np.max(rpartitioned_w), 7));\n",
    "cbar.set_ticklabels([\"{:.4f}\".format(x) for x in np.linspace(np.min(rpartitioned_w),\n",
    "                                                             np.max(rpartitioned_w), 7)]);"
   ]
  },
  {
   "cell_type": "code",
   "execution_count": null,
   "id": "db752aea",
   "metadata": {},
   "outputs": [],
   "source": [
    "isort = np.argsort(pred_samples[:n_init_samples_small,0])\n",
    "isort_obs = np.argsort(obs_samples)\n",
    "\n",
    "plt.plot(np.append(np.min(pred_samples[:,0]), np.append(obs_samples[isort_obs], np.max(pred_samples[:,0]))),\n",
    "         np.append(0, np.append(np.cumsum([1/n_obs_samples]*n_obs_samples), 1)), label=r'$F^m_{obs}$');\n",
    "plt.step(pred_samples[isort], np.cumsum(w[isort]/n_init_samples_small),\n",
    "         label=r'$F^m_{w;pred}$, naïve', ls='dashed');\n",
    "plt.step(pred_samples[isort], np.cumsum(rpartitioned_w[isort]),\n",
    "         label=r'$F^m_{w;pred}$, regular partition', ls='dotted');\n",
    "plt.step(pred_samples[isort], np.cumsum(kpartitioned_w[isort]),\n",
    "         label=r'$F^m_{w;pred}$, k-means partition', ls='dashdot');\n",
    "\n",
    "plt.xticks(ticks=np.linspace(np.min(ZZ), np.max(ZZ), 6),\n",
    "           labels=[\"{:.3f}\".format(x) for x in np.linspace(np.min(ZZ), np.max(ZZ), 6)]);\n",
    "plt.xlabel(r'$\\mathcal{D}$');\n",
    "plt.ylabel('Cumulative distribution');\n",
    "plt.legend(loc='center left', bbox_to_anchor=(1, 0.5), shadow=True);\n",
    "\n",
    "plt.savefig(f'{plot_directory}/small_cdf_compare.png', bbox_inches='tight');"
   ]
  },
  {
   "cell_type": "code",
   "execution_count": null,
   "id": "07fb6210",
   "metadata": {},
   "outputs": [],
   "source": [
    "plt.plot(np.append(np.min(pred_samples[:n_init_samples_small,0]),\n",
    "                   np.append(obs_samples[isort_obs], np.max(pred_samples[:n_init_samples_small,0]))),\n",
    "         np.append(0, np.append(np.cumsum([1/n_obs_samples]*n_obs_samples), 1)), label='$F^m_{obs}$');\n",
    "\n",
    "plt.step(pred_samples[isort], np.cumsum([1/n_init_samples_small]*n_init_samples_small),\n",
    "         label=r'$F^n_{pred}$', ls='dashed');\n",
    "plt.step(pred_samples[isort], np.cumsum(w[isort]/n_init_samples_small),\n",
    "         label=r'$F^n_{pred;w}$', ls='solid');\n",
    "\n",
    "plt.xticks(ticks=np.linspace(np.min(ZZ), np.max(ZZ), 7),\n",
    "           labels=[\"{:.3f}\".format(x) for x in np.linspace(np.min(ZZ), np.max(ZZ), 7)]);\n",
    "plt.xlabel(r'$\\mathcal{D}$');\n",
    "plt.ylabel('Cumulative distribution');\n",
    "plt.legend(loc='upper left', shadow=True);\n",
    "\n",
    "plt.tight_layout()\n",
    "plt.savefig(f'{plot_directory}/small_dist_cdfs.png')"
   ]
  },
  {
   "cell_type": "code",
   "execution_count": null,
   "id": "05fba463",
   "metadata": {},
   "outputs": [],
   "source": [
    "r = obs_KDE(pred_samples[:n_init_samples_small].T) / pred_KDE(pred_samples[:n_init_samples_small].T)\n",
    "rn_w = r / n_init_samples_small\n",
    "print(f'E(r) = {np.mean(r)}')"
   ]
  },
  {
   "cell_type": "code",
   "execution_count": null,
   "id": "acb78273",
   "metadata": {},
   "outputs": [],
   "source": [
    "plt.scatter(init_samples[:n_init_samples_small,0], init_samples[:n_init_samples_small,1], c=rn_w);\n",
    "\n",
    "plt.xlabel(r'$\\ell$');\n",
    "plt.ylabel(r'$\\kappa$');\n",
    "plt.xticks(ticks=np.linspace(np.min(XX), np.max(XX), 6),\n",
    "           labels=[\"{:.2f}\".format(x) for x in np.linspace(np.min(XX), np.max(XX), 6)]);\n",
    "plt.yticks(ticks=np.linspace(np.min(YY), np.max(YY), 6),\n",
    "           labels=[\"{:.2f}\".format(x) for x in np.linspace(np.min(YY), np.max(YY), 6)]);\n",
    "\n",
    "cbar = plt.colorbar();\n",
    "cbar.set_ticks(np.linspace(np.min(rn_w), np.max(rn_w), 7));\n",
    "cbar.set_ticklabels([\"{:.4f}\".format(x) for x in np.linspace(np.min(rn_w), np.max(rn_w), 7)]);"
   ]
  },
  {
   "cell_type": "code",
   "execution_count": null,
   "id": "3a990c5e",
   "metadata": {},
   "outputs": [],
   "source": [
    "pf_KDE = GKDE(pred_samples[:n_init_samples_small].T, weights=rn_w)\n",
    "\n",
    "pred_samples[:n_init_samples_small, 0] = u(N, sensor_loc, t, init_samples[:n_init_samples_small,0],\n",
    "                                           init_samples[:n_init_samples_small,1])\n",
    "pred_KDE = GKDE(pred_samples[:n_init_samples_small,0])"
   ]
  },
  {
   "cell_type": "code",
   "execution_count": null,
   "id": "14873fa5",
   "metadata": {},
   "outputs": [],
   "source": [
    "xx = np.linspace(np.min(pred_samples[:n_init_samples_small,0]), np.max(pred_samples[:n_init_samples_small,0]), 1000)\n",
    "\n",
    "plt.plot(xx, obs_KDE(xx), label=r'$\\pi^m_{obs}$');\n",
    "plt.plot(xx, pred_KDE(xx), label=r'$\\pi^n_{pred}$');\n",
    "plt.plot(xx, pf_KDE(xx), label=r'PF $\\pi_{update}$', ls='dashed');\n",
    "\n",
    "plt.xticks(ticks=np.linspace(np.min(ZZ), np.max(ZZ), 5),\n",
    "           labels=[\"{:.3f}\".format(x) for x in np.linspace(np.min(ZZ), np.max(ZZ), 5)]);\n",
    "plt.xlabel(r'$\\mathcal{D}$');\n",
    "plt.ylabel('Density');\n",
    "plt.legend(loc='upper right', shadow=True);\n",
    "\n",
    "plt.tight_layout();\n",
    "plt.savefig(f'{plot_directory}/small_dens_results.png');"
   ]
  },
  {
   "cell_type": "markdown",
   "id": "7348fb69",
   "metadata": {},
   "source": [
    "## No density example\n",
    "\n",
    "This next example corresponds to the no density admitting case, which is at at the end of section 3.4 in the paper and shown in Figure 10."
   ]
  },
  {
   "cell_type": "code",
   "execution_count": null,
   "id": "ee45badf",
   "metadata": {},
   "outputs": [],
   "source": [
    "# n_init_samples = 2000\n",
    "\n",
    "# init_samples = np.random.uniform(0, 1, (n_init_samples,2))\n",
    "# init_samples[:,0] = init_samples[:,0] * delta_l + l - delta_l / 2\n",
    "# init_samples[:,1] = init_samples[:,1] * delta_kappa + kappa - delta_kappa / 2\n",
    "\n",
    "# pred_samples = np.zeros((n_init_samples, len(ts)))\n",
    "\n",
    "# for count, t in enumerate(ts):\n",
    "#     pred_samples[:, count] = u(N, sensor_loc, t, init_samples[:,0], init_samples[:,1])\n",
    "# pred_KDE = GKDE(pred_samples[:,0])"
   ]
  },
  {
   "cell_type": "code",
   "execution_count": null,
   "id": "b6496ace",
   "metadata": {},
   "outputs": [],
   "source": [
    "data_space = [0.585, 0.6]\n",
    "\n",
    "n_data_pieces = 3\n",
    "data_splits = (np.array([0, 1/3, 2/3, 1]) * (data_space[1] - data_space[0])) + 0.585\n",
    "\n",
    "print(data_splits)"
   ]
  },
  {
   "cell_type": "code",
   "execution_count": null,
   "id": "dd2ee66e",
   "metadata": {},
   "outputs": [],
   "source": [
    "obs_dens_pieces = [5, 1, 4]\n",
    "obs_dens_pieces = obs_dens_pieces / np.sum(obs_dens_pieces)\n",
    "obs_dens_pieces = [obs_dens_pieces[i] / (data_splits[i+1] - data_splits[i]) for i in range(n_data_pieces)]\n",
    "\n",
    "print(obs_dens_pieces)\n",
    "print(np.array(obs_dens_pieces) * (data_splits[1] - data_splits[0]))"
   ]
  },
  {
   "cell_type": "code",
   "execution_count": null,
   "id": "7d74667d",
   "metadata": {},
   "outputs": [],
   "source": [
    "def obs_dens(x):\n",
    "    dens = np.zeros(len(x))\n",
    "    for i in range(0, n_data_pieces-1):\n",
    "        dens[(x >= data_splits[i]) & (x < data_splits[i+1])] = obs_dens_pieces[i]\n",
    "    dens[(x >= data_splits[-2]) & (x <= data_splits[-1])] = obs_dens_pieces[-1]\n",
    "    return dens"
   ]
  },
  {
   "cell_type": "code",
   "execution_count": null,
   "id": "95023aeb",
   "metadata": {},
   "outputs": [],
   "source": [
    "def obs_cdf(x):\n",
    "    dist = np.zeros(len(x))\n",
    "    for i in range(1, n_data_pieces):\n",
    "        dist[(x > data_splits[i])] += obs_dens_pieces[i-1] * (data_splits[i+1] - data_splits[i])\n",
    "    for i in range(0, n_data_pieces-1):\n",
    "        tot = obs_dens_pieces[i] * (data_splits[i+1] - data_splits[i])\n",
    "        frac = (x[(x >= data_splits[i]) & (x < data_splits[i+1])] - data_splits[i]) / (data_splits[i+1] - data_splits[i])\n",
    "        dist[(x >= data_splits[i]) & (x < data_splits[i+1])] += frac * tot\n",
    "    tot = obs_dens_pieces[-1] * (data_splits[-1] - data_splits[-2])\n",
    "    frac = (x[(x >= data_splits[-2]) & (x <= data_splits[-1])] - data_splits[-2]) / (data_splits[-1] - data_splits[-2])\n",
    "    dist[(x >= data_splits[-2]) & (x <= data_splits[-1])] += frac * tot\n",
    "    return dist"
   ]
  },
  {
   "cell_type": "code",
   "execution_count": null,
   "id": "77644371",
   "metadata": {},
   "outputs": [],
   "source": [
    "def obs_sample(n):\n",
    "    where = np.random.uniform(0, 1, n)\n",
    "    samples = np.zeros(np.shape(where))\n",
    "    ocm = np.append(0, np.cumsum([obs_dens_pieces[i] * (data_splits[i+1] - data_splits[i]) for i in range(n_data_pieces)]))\n",
    "    for i in range(0, n_data_pieces):\n",
    "        samples[(where >= ocm[i]) & (where < ocm[i+1])] = np.random.uniform(data_splits[i], data_splits[i+1], np.sum([(where >= ocm[i]) & (where < ocm[i+1])]))\n",
    "    return samples"
   ]
  },
  {
   "cell_type": "code",
   "execution_count": null,
   "id": "e6c8c9ac",
   "metadata": {},
   "outputs": [],
   "source": [
    "n_obs_samples = 10000\n",
    "obs_samples = obs_sample(n_obs_samples)\n",
    "\n",
    "obs_KDE = GKDE(obs_samples)"
   ]
  },
  {
   "cell_type": "code",
   "execution_count": null,
   "id": "a17cf78c",
   "metadata": {},
   "outputs": [],
   "source": [
    "xx = np.linspace(np.min(pred_samples)-0.01, np.max(pred_samples)+0.01, 1000)\n",
    "\n",
    "plt.hist(obs_samples, bins=15, alpha=0.3, density=True, label='Observed hist.', rwidth=0.85);\n",
    "plt.plot(xx, obs_KDE(xx), color=CB_color_cycle[0], label='Observed KDE');\n",
    "\n",
    "plt.hist(pred_samples, bins=25, alpha=0.3, density=True, label='Predicted hist.', rwidth=0.85);\n",
    "plt.plot(xx, pred_KDE(xx), color=CB_color_cycle[1], label='Predicted KDE');\n",
    "\n",
    "plt.legend(shadow=True);\n",
    "plt.xlabel(r'$\\mathcal{D}$');\n",
    "plt.xlim(np.min(pred_samples[:,0]-0.002), np.max(pred_samples[:,0]+0.015));\n",
    "plt.ylabel('Density');\n",
    "\n",
    "plt.savefig(f'{plot_directory}/no_density_dists.png', bbox_inches='tight');"
   ]
  },
  {
   "cell_type": "code",
   "execution_count": null,
   "id": "6605e42a",
   "metadata": {},
   "outputs": [],
   "source": [
    "r_no_dens = obs_KDE(pred_samples.T) / pred_KDE(pred_samples.T)\n",
    "print(f'E(r) = {np.mean(r_no_dens)}')\n",
    "\n",
    "update_inds = rejection_sampling(r_no_dens)\n",
    "update_samples = init_samples[update_inds]\n",
    "\n",
    "pf_samples = pred_samples[update_inds]\n",
    "pf_KDE = GKDE(pf_samples.T)"
   ]
  },
  {
   "cell_type": "code",
   "execution_count": null,
   "id": "e2bcadc9",
   "metadata": {},
   "outputs": [],
   "source": [
    "xx = np.linspace(np.min(pred_samples[:,0]), np.max(pred_samples[:,0]), 1000)\n",
    "\n",
    "plt.plot(xx, obs_KDE(xx), label=r'$\\pi_{obs}$');\n",
    "plt.plot(xx, pred_KDE(xx), label=r'$\\pi_{pred}$');\n",
    "plt.plot(xx, pf_KDE(xx), label=r'$\\pi_{update}$', ls='--');\n",
    "\n",
    "plt.xticks(ticks=np.linspace(np.min(pred_samples), np.max(pred_samples), 6),\n",
    "           labels=[\"{:.3f}\".format(x) for x in np.linspace(np.min(pred_samples), np.max(pred_samples), 6)]);\n",
    "plt.xlabel(r'$u$');\n",
    "plt.ylabel('Density');\n",
    "plt.legend(shadow=True);\n",
    "\n",
    "plt.tight_layout();\n",
    "plt.savefig(f'{plot_directory}/no_dens_density.png', bbox_inches='tight');"
   ]
  },
  {
   "cell_type": "code",
   "execution_count": null,
   "id": "fa52593d",
   "metadata": {},
   "outputs": [],
   "source": [
    "n_bins=100\n",
    "kpartitioned_w, clusters, centers, w_center = weights.computePartitionedWeights_kMeans_IID(init_samples,\n",
    "                                                        pred_samples,\n",
    "                                                        sample_set_2=np.reshape(obs_samples, (len(obs_samples),1)),\n",
    "                                                        n_clusters=n_bins)"
   ]
  },
  {
   "cell_type": "code",
   "execution_count": null,
   "id": "04a7f42a",
   "metadata": {},
   "outputs": [],
   "source": [
    "pf_CDF = np.zeros(np.shape(xx[1:]))\n",
    "for count, x in enumerate(xx[1:]):\n",
    "    pf_CDF[count],temp = integrate.quad(pf_KDE, np.min(pred_samples[:,0]), x)"
   ]
  },
  {
   "cell_type": "code",
   "execution_count": null,
   "id": "36eba751",
   "metadata": {},
   "outputs": [],
   "source": [
    "isort = np.argsort(pred_samples[:,0])\n",
    "isort_obs = np.argsort(obs_samples)\n",
    "\n",
    "plt.step(np.append(pred_samples[isort,0], np.max(pred_samples[:,0])+0.015),\n",
    "         np.append(np.cumsum([1/n_init_samples]*n_init_samples), 1), label='$F^n_{pred}$');\n",
    "plt.step(np.append(np.min(pred_samples[:,0]), np.append(obs_samples[isort_obs], np.max(pred_samples[:,0])+0.015)),\n",
    "         np.append(0, np.append(np.cumsum([1/n_obs_samples]*n_obs_samples), 1)),\n",
    "         label=r'$F^m_{obs}$');\n",
    "plt.step(np.append(pred_samples[isort,0], np.max(pred_samples[:,0])+0.015),\n",
    "         np.append(np.cumsum(kpartitioned_w[isort]), 1), label='$F^n_{pred;w}$', ls='--');\n",
    "plt.plot(xx[1:], pf_CDF, label='PF update CDF', ls='--');\n",
    "\n",
    "plt.xlabel(r'$\\mathcal{D}$');\n",
    "plt.xlim(np.min(pred_samples[:,0]-0.002), np.max(pred_samples[:,0]+0.015));\n",
    "plt.ylabel('Cumulative distribution');\n",
    "plt.legend(loc='lower right', shadow=True);\n",
    "\n",
    "plt.tight_layout();\n",
    "plt.savefig(f'{plot_directory}/no_dens_cdfs.png', bbox_inches='tight');"
   ]
  },
  {
   "cell_type": "code",
   "execution_count": null,
   "id": "2e8dae29",
   "metadata": {},
   "outputs": [],
   "source": [
    "xx = np.linspace(np.min(pred_samples[:,0]), np.max(pred_samples[:,0]), 1000)\n",
    "\n",
    "plt.plot(xx, obs_KDE(xx), label=r'$\\pi_{obs}$');\n",
    "plt.plot(xx, pred_KDE(xx), label=r'$\\pi_{pred}$');\n",
    "plt.plot(xx, pf_KDE(xx), label=r'$\\pi_{update}$');\n",
    "\n",
    "plt.xticks(ticks=np.linspace(np.min(pred_samples), np.max(pred_samples), 6),\n",
    "           labels=[\"{:.3f}\".format(x) for x in np.linspace(np.min(pred_samples), np.max(pred_samples), 6)]);\n",
    "plt.xlabel(r'$u$');\n",
    "plt.ylabel('Density');\n",
    "plt.legend(shadow=True);\n",
    "\n",
    "plt.tight_layout();\n",
    "plt.savefig(f'{plot_directory}/no_dens_densities.png', bbox_inches='tight');"
   ]
  },
  {
   "cell_type": "code",
   "execution_count": null,
   "id": "c6da04a4",
   "metadata": {},
   "outputs": [],
   "source": []
  }
 ],
 "metadata": {
  "kernelspec": {
   "display_name": "Python 3 (ipykernel)",
   "language": "python",
   "name": "python3"
  },
  "language_info": {
   "codemirror_mode": {
    "name": "ipython",
    "version": 3
   },
   "file_extension": ".py",
   "mimetype": "text/x-python",
   "name": "python",
   "nbconvert_exporter": "python",
   "pygments_lexer": "ipython3",
   "version": "3.9.6"
  }
 },
 "nbformat": 4,
 "nbformat_minor": 5
}
